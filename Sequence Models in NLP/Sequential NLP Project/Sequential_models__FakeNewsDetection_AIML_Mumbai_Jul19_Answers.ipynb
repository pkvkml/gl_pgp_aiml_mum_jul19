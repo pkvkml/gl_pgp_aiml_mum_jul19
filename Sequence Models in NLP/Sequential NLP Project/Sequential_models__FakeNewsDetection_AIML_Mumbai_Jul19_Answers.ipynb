{
  "nbformat": 4,
  "nbformat_minor": 0,
  "metadata": {
    "colab": {
      "name": "Sequential_models__FakeNewsDetection_AIML_Mumbai_Jul19 Answers.ipynb",
      "provenance": [],
      "collapsed_sections": []
    },
    "kernelspec": {
      "name": "python3",
      "display_name": "Python 3"
    },
    "accelerator": "GPU"
  },
  "cells": [
    {
      "cell_type": "markdown",
      "metadata": {
        "id": "QI9jhXKPCFcJ",
        "colab_type": "text"
      },
      "source": [
        "# Stance Detection for the Fake News Challenge\n",
        "\n",
        "## Identifying Textual Relationships with Deep Neural Nets\n",
        "\n",
        "### Check the problem context [here](https://drive.google.com/open?id=1KfWaZyQdGBw8AUTacJ2yY86Yxgw2Xwq0).\n",
        "\n",
        "### Download files required for the project from [here](https://drive.google.com/open?id=10yf39ifEwVihw4xeJJR60oeFBY30Y5J8)."
      ]
    },
    {
      "cell_type": "markdown",
      "metadata": {
        "id": "vSNgdEMpenpE",
        "colab_type": "text"
      },
      "source": [
        "## Step1: Load the given dataset  \n",
        "\n",
        "1. Mount the google drive\n",
        "\n",
        "2. Import Glove embeddings\n",
        "\n",
        "3. Import the test and train datasets"
      ]
    },
    {
      "cell_type": "markdown",
      "metadata": {
        "id": "aPOZRohMiSpQ",
        "colab_type": "text"
      },
      "source": [
        "### Mount the google drive to access required project files\n",
        "\n",
        "Run the below commands"
      ]
    },
    {
      "cell_type": "code",
      "metadata": {
        "id": "7AS39z1XgFpT",
        "colab_type": "code",
        "colab": {}
      },
      "source": [
        "from google.colab import drive"
      ],
      "execution_count": 0,
      "outputs": []
    },
    {
      "cell_type": "code",
      "metadata": {
        "id": "S_7yCFdzgFsH",
        "colab_type": "code",
        "outputId": "9036eda4-60ec-47ae-86eb-305c0e8e6f84",
        "colab": {
          "base_uri": "https://localhost:8080/",
          "height": 34
        }
      },
      "source": [
        "drive.mount('/content/drive/')"
      ],
      "execution_count": 2,
      "outputs": [
        {
          "output_type": "stream",
          "text": [
            "Drive already mounted at /content/drive/; to attempt to forcibly remount, call drive.mount(\"/content/drive/\", force_remount=True).\n"
          ],
          "name": "stdout"
        }
      ]
    },
    {
      "cell_type": "markdown",
      "metadata": {
        "id": "bhZdJ4zpwWzN",
        "colab_type": "text"
      },
      "source": [
        "#### Path for Project files on google drive\n",
        "\n",
        "**Note:** You need to change this path according where you have kept the files in google drive. "
      ]
    },
    {
      "cell_type": "code",
      "metadata": {
        "id": "Aol97RUogFuS",
        "colab_type": "code",
        "colab": {}
      },
      "source": [
        "project_path = \"/content/drive/My Drive/Fake News Challenge/\""
      ],
      "execution_count": 0,
      "outputs": []
    },
    {
      "cell_type": "markdown",
      "metadata": {
        "id": "2ly0VxAnwJ2f",
        "colab_type": "text"
      },
      "source": [
        "### Loading the Glove Embeddings"
      ]
    },
    {
      "cell_type": "code",
      "metadata": {
        "id": "xmsPn6PF-cgL",
        "colab_type": "code",
        "colab": {}
      },
      "source": [
        "from zipfile import ZipFile\n",
        "with ZipFile(project_path+'glove.6B.zip', 'r') as z:\n",
        "  z.extractall()"
      ],
      "execution_count": 0,
      "outputs": []
    },
    {
      "cell_type": "markdown",
      "metadata": {
        "id": "TjLJEQ_PwcGi",
        "colab_type": "text"
      },
      "source": [
        "10# Load the dataset [10 Marks]\n",
        "\n",
        "1. Using [read_csv()](https://pandas.pydata.org/pandas-docs/stable/generated/pandas.read_csv.html) in pandas load the given train datasets files **`train_bodies.csv`** and **`train_stances.csv`**\n",
        "\n",
        "2. Using [merge](https://pandas.pydata.org/pandas-docs/stable/generated/pandas.DataFrame.merge.html) command in pandas merge the two datasets based on the Body ID. \n",
        "\n",
        "Note: Save the final merged dataset in a dataframe with name **`dataset`**."
      ]
    },
    {
      "cell_type": "code",
      "metadata": {
        "id": "7gXO1WZ-gFwm",
        "colab_type": "code",
        "colab": {}
      },
      "source": [
        "import pandas as pd"
      ],
      "execution_count": 0,
      "outputs": []
    },
    {
      "cell_type": "code",
      "metadata": {
        "id": "kosAWskdOOT8",
        "colab_type": "code",
        "colab": {}
      },
      "source": [
        "train_bodies = pd.read_csv(project_path+'train_bodies.csv')\n",
        "train_stances = pd.read_csv(project_path+'train_stances.csv')"
      ],
      "execution_count": 0,
      "outputs": []
    },
    {
      "cell_type": "code",
      "metadata": {
        "id": "3EI80q68geZP",
        "colab_type": "code",
        "colab": {}
      },
      "source": [
        "dataset = pd.merge(train_bodies, train_stances, on='Body ID')"
      ],
      "execution_count": 0,
      "outputs": []
    },
    {
      "cell_type": "markdown",
      "metadata": {
        "id": "g4ycQbBCg20S",
        "colab_type": "text"
      },
      "source": [
        "\n",
        "<h2> Check1:</h2>\n",
        "  \n",
        "<h3> You should see the below output if you run `dataset.head()` command as given below </h3>"
      ]
    },
    {
      "cell_type": "code",
      "metadata": {
        "id": "IUtF7iOmj11k",
        "colab_type": "code",
        "outputId": "a9111eb6-e775-4a0f-d583-ca30f51a2972",
        "colab": {
          "base_uri": "https://localhost:8080/",
          "height": 204
        }
      },
      "source": [
        "dataset.head()"
      ],
      "execution_count": 8,
      "outputs": [
        {
          "output_type": "execute_result",
          "data": {
            "text/html": [
              "<div>\n",
              "<style scoped>\n",
              "    .dataframe tbody tr th:only-of-type {\n",
              "        vertical-align: middle;\n",
              "    }\n",
              "\n",
              "    .dataframe tbody tr th {\n",
              "        vertical-align: top;\n",
              "    }\n",
              "\n",
              "    .dataframe thead th {\n",
              "        text-align: right;\n",
              "    }\n",
              "</style>\n",
              "<table border=\"1\" class=\"dataframe\">\n",
              "  <thead>\n",
              "    <tr style=\"text-align: right;\">\n",
              "      <th></th>\n",
              "      <th>Body ID</th>\n",
              "      <th>articleBody</th>\n",
              "      <th>Headline</th>\n",
              "      <th>Stance</th>\n",
              "    </tr>\n",
              "  </thead>\n",
              "  <tbody>\n",
              "    <tr>\n",
              "      <th>0</th>\n",
              "      <td>0</td>\n",
              "      <td>A small meteorite crashed into a wooded area i...</td>\n",
              "      <td>Soldier shot, Parliament locked down after gun...</td>\n",
              "      <td>unrelated</td>\n",
              "    </tr>\n",
              "    <tr>\n",
              "      <th>1</th>\n",
              "      <td>0</td>\n",
              "      <td>A small meteorite crashed into a wooded area i...</td>\n",
              "      <td>Tourist dubbed ‘Spider Man’ after spider burro...</td>\n",
              "      <td>unrelated</td>\n",
              "    </tr>\n",
              "    <tr>\n",
              "      <th>2</th>\n",
              "      <td>0</td>\n",
              "      <td>A small meteorite crashed into a wooded area i...</td>\n",
              "      <td>Luke Somers 'killed in failed rescue attempt i...</td>\n",
              "      <td>unrelated</td>\n",
              "    </tr>\n",
              "    <tr>\n",
              "      <th>3</th>\n",
              "      <td>0</td>\n",
              "      <td>A small meteorite crashed into a wooded area i...</td>\n",
              "      <td>BREAKING: Soldier shot at War Memorial in Ottawa</td>\n",
              "      <td>unrelated</td>\n",
              "    </tr>\n",
              "    <tr>\n",
              "      <th>4</th>\n",
              "      <td>0</td>\n",
              "      <td>A small meteorite crashed into a wooded area i...</td>\n",
              "      <td>Giant 8ft 9in catfish weighing 19 stone caught...</td>\n",
              "      <td>unrelated</td>\n",
              "    </tr>\n",
              "  </tbody>\n",
              "</table>\n",
              "</div>"
            ],
            "text/plain": [
              "   Body ID  ...     Stance\n",
              "0        0  ...  unrelated\n",
              "1        0  ...  unrelated\n",
              "2        0  ...  unrelated\n",
              "3        0  ...  unrelated\n",
              "4        0  ...  unrelated\n",
              "\n",
              "[5 rows x 4 columns]"
            ]
          },
          "metadata": {
            "tags": []
          },
          "execution_count": 8
        }
      ]
    },
    {
      "cell_type": "markdown",
      "metadata": {
        "id": "tjzVz2ifijmj",
        "colab_type": "text"
      },
      "source": [
        "## Step2: Data Pre-processing and setting some hyper parameters needed for model\n",
        "\n",
        "\n",
        "#### Run the code given below to set the required parameters.\n",
        "\n",
        "1. `MAX_SENTS` = Maximum no.of sentences to consider in an article.\n",
        "\n",
        "2. `MAX_SENT_LENGTH` = Maximum no.of words to consider in a sentence.\n",
        "\n",
        "3. `MAX_NB_WORDS` = Maximum no.of words in the total vocabualry.\n",
        "\n",
        "4. `MAX_SENTS_HEADING` = Maximum no.of sentences to consider in a heading of an article."
      ]
    },
    {
      "cell_type": "code",
      "metadata": {
        "id": "KDXSdpvqjuqw",
        "colab_type": "code",
        "colab": {}
      },
      "source": [
        "MAX_NB_WORDS = 20000\n",
        "MAX_SENTS = 20\n",
        "MAX_SENTS_HEADING = 1\n",
        "MAX_SENT_LENGTH = 20\n",
        "VALIDATION_SPLIT = 0.2"
      ],
      "execution_count": 0,
      "outputs": []
    },
    {
      "cell_type": "markdown",
      "metadata": {
        "id": "zwE7CPHdiDT-",
        "colab_type": "text"
      },
      "source": [
        "### Download the `Punkt` from nltk using the commands given below. This is for sentence tokenization.\n",
        "\n",
        "For more info on how to use it, read [this](https://stackoverflow.com/questions/35275001/use-of-punktsentencetokenizer-in-nltk).\n",
        "\n"
      ]
    },
    {
      "cell_type": "code",
      "metadata": {
        "id": "lsiKmyJUZ-hU",
        "colab_type": "code",
        "outputId": "50ddf6f8-83bc-436b-f9e0-32c4de14d5cf",
        "colab": {
          "base_uri": "https://localhost:8080/",
          "height": 68
        }
      },
      "source": [
        "import nltk\n",
        "nltk.download('punkt')"
      ],
      "execution_count": 10,
      "outputs": [
        {
          "output_type": "stream",
          "text": [
            "[nltk_data] Downloading package punkt to /root/nltk_data...\n",
            "[nltk_data]   Package punkt is already up-to-date!\n"
          ],
          "name": "stdout"
        },
        {
          "output_type": "execute_result",
          "data": {
            "text/plain": [
              "True"
            ]
          },
          "metadata": {
            "tags": []
          },
          "execution_count": 10
        }
      ]
    },
    {
      "cell_type": "markdown",
      "metadata": {
        "id": "Gqwm_GbwwnhX",
        "colab_type": "text"
      },
      "source": [
        "# Tokenizing the text and loading the pre-trained Glove word embeddings for each token  [10 marks] "
      ]
    },
    {
      "cell_type": "markdown",
      "metadata": {
        "id": "WfZLR24mm32k",
        "colab_type": "text"
      },
      "source": [
        "Keras provides [Tokenizer API](https://keras.io/preprocessing/text/) for preparing text. Read it before going any further."
      ]
    },
    {
      "cell_type": "markdown",
      "metadata": {
        "id": "fLSn9S-5oG4Z",
        "colab_type": "text"
      },
      "source": [
        "#### Import the Tokenizer from keras preprocessing text"
      ]
    },
    {
      "cell_type": "code",
      "metadata": {
        "id": "S-VUgh2yoMlR",
        "colab_type": "code",
        "outputId": "288d5312-9ad1-4fcc-c808-852f3ee6cd79",
        "colab": {
          "base_uri": "https://localhost:8080/",
          "height": 34
        }
      },
      "source": [
        "from keras.preprocessing.text import Tokenizer"
      ],
      "execution_count": 11,
      "outputs": [
        {
          "output_type": "stream",
          "text": [
            "Using TensorFlow backend.\n"
          ],
          "name": "stderr"
        }
      ]
    },
    {
      "cell_type": "markdown",
      "metadata": {
        "id": "eml0Lge4oOuh",
        "colab_type": "text"
      },
      "source": [
        "#### Initialize the Tokenizer class with maximum vocabulary count as `MAX_NB_WORDS` initialized at the start of step2. "
      ]
    },
    {
      "cell_type": "code",
      "metadata": {
        "id": "Qm85qirPofc2",
        "colab_type": "code",
        "colab": {}
      },
      "source": [
        "t = Tokenizer(MAX_NB_WORDS)"
      ],
      "execution_count": 0,
      "outputs": []
    },
    {
      "cell_type": "markdown",
      "metadata": {
        "id": "HBe1KuXDosJ7",
        "colab_type": "text"
      },
      "source": [
        "#### Now, using fit_on_texts() from Tokenizer class, lets encode the data \n",
        "\n",
        "Note: We need to fit articleBody and Headline also to cover all the words."
      ]
    },
    {
      "cell_type": "code",
      "metadata": {
        "id": "Q5rk-UyBlmyA",
        "colab_type": "code",
        "colab": {}
      },
      "source": [
        "texts = []\n",
        "for text in dataset['articleBody']:\n",
        "  texts.append(text)\n",
        "for text in dataset['Headline']:\n",
        "  texts.append(text)\n",
        "t.fit_on_texts(texts)"
      ],
      "execution_count": 0,
      "outputs": []
    },
    {
      "cell_type": "markdown",
      "metadata": {
        "id": "omptHX-JpBsN",
        "colab_type": "text"
      },
      "source": [
        "#### fit_on_texts() gives the following attributes in the output as given [here](https://faroit.github.io/keras-docs/1.2.2/preprocessing/text/).\n",
        "\n",
        "* **word_counts:** dictionary mapping words (str) to the number of times they appeared on during fit. Only set after fit_on_texts was called.\n",
        "\n",
        "* **word_docs:** dictionary mapping words (str) to the number of documents/texts they appeared on during fit. Only set after fit_on_texts was called.\n",
        "\n",
        "* **word_index:** dictionary mapping words (str) to their rank/index (int). Only set after fit_on_texts was called.\n",
        "\n",
        "* **document_count:** int. Number of documents (texts/sequences) the tokenizer was trained on. Only set after fit_on_texts or fit_on_sequences was called.\n",
        "\n"
      ]
    },
    {
      "cell_type": "markdown",
      "metadata": {
        "id": "SHnsT2sTtFAA",
        "colab_type": "text"
      },
      "source": [
        "### Now, tokenize the sentences using nltk sent_tokenize() and encode the senteces with the ids we got form the above `t.word_index`\n",
        "\n",
        "Initialise 2 lists with names `texts` and `articles`.\n",
        "\n",
        "```\n",
        "texts = [] to store text of article as it is.\n",
        "\n",
        "articles = [] split the above text into a list of sentences.\n",
        "```"
      ]
    },
    {
      "cell_type": "code",
      "metadata": {
        "id": "ctEu-d4c4EZs",
        "colab_type": "code",
        "colab": {}
      },
      "source": [
        "from nltk.tokenize import sent_tokenize\n",
        "texts = []\n",
        "articles = []"
      ],
      "execution_count": 0,
      "outputs": []
    },
    {
      "cell_type": "code",
      "metadata": {
        "id": "5K-prXdUhXo6",
        "colab_type": "code",
        "colab": {}
      },
      "source": [
        "for text in dataset['articleBody']:\n",
        "  texts.append(text)\n",
        "  sentences = sent_tokenize(text)\n",
        "  articles.append(sentences)"
      ],
      "execution_count": 0,
      "outputs": []
    },
    {
      "cell_type": "markdown",
      "metadata": {
        "id": "koTVJjoO6P78",
        "colab_type": "text"
      },
      "source": [
        "## Check 2:\n",
        "\n",
        "first element of texts and articles should be as given below. "
      ]
    },
    {
      "cell_type": "code",
      "metadata": {
        "id": "3mWBW99p5UW9",
        "colab_type": "code",
        "outputId": "8d644b57-54ad-4058-c7c8-81494f710f9c",
        "colab": {
          "base_uri": "https://localhost:8080/",
          "height": 54
        }
      },
      "source": [
        "texts[0]"
      ],
      "execution_count": 16,
      "outputs": [
        {
          "output_type": "execute_result",
          "data": {
            "text/plain": [
              "'A small meteorite crashed into a wooded area in Nicaragua\\'s capital of Managua overnight, the government said Sunday. Residents reported hearing a mysterious boom that left a 16-foot deep crater near the city\\'s airport, the Associated Press reports. \\n\\nGovernment spokeswoman Rosario Murillo said a committee formed by the government to study the event determined it was a \"relatively small\" meteorite that \"appears to have come off an asteroid that was passing close to Earth.\" House-sized asteroid 2014 RC, which measured 60 feet in diameter, skimmed the Earth this weekend, ABC News reports. \\nMurillo said Nicaragua will ask international experts to help local scientists in understanding what happened.\\n\\nThe crater left by the meteorite had a radius of 39 feet and a depth of 16 feet,  said Humberto Saballos, a volcanologist with the Nicaraguan Institute of Territorial Studies who was on the committee. He said it is still not clear if the meteorite disintegrated or was buried.\\n\\nHumberto Garcia, of the Astronomy Center at the National Autonomous University of Nicaragua, said the meteorite could be related to an asteroid that was forecast to pass by the planet Saturday night.\\n\\n\"We have to study it more because it could be ice or rock,\" he said.\\n\\nWilfried Strauch, an adviser to the Institute of Territorial Studies, said it was \"very strange that no one reported a streak of light. We have to ask if anyone has a photo or something.\"\\n\\nLocal residents reported hearing a loud boom Saturday night, but said they didn\\'t see anything strange in the sky.\\n\\n\"I was sitting on my porch and I saw nothing, then all of a sudden I heard a large blast. We thought it was a bomb because we felt an expansive wave,\" Jorge Santamaria told The Associated Press.\\n\\nThe site of the crater is near Managua\\'s international airport and an air force base. Only journalists from state media were allowed to visit it.'"
            ]
          },
          "metadata": {
            "tags": []
          },
          "execution_count": 16
        }
      ]
    },
    {
      "cell_type": "code",
      "metadata": {
        "id": "WtIjO3ht5EKA",
        "colab_type": "code",
        "outputId": "f00e16ca-44ca-4ab8-e8f1-2b683b352b11",
        "colab": {
          "base_uri": "https://localhost:8080/",
          "height": 309
        }
      },
      "source": [
        "articles[0]"
      ],
      "execution_count": 17,
      "outputs": [
        {
          "output_type": "execute_result",
          "data": {
            "text/plain": [
              "[\"A small meteorite crashed into a wooded area in Nicaragua's capital of Managua overnight, the government said Sunday.\",\n",
              " \"Residents reported hearing a mysterious boom that left a 16-foot deep crater near the city's airport, the Associated Press reports.\",\n",
              " 'Government spokeswoman Rosario Murillo said a committee formed by the government to study the event determined it was a \"relatively small\" meteorite that \"appears to have come off an asteroid that was passing close to Earth.\"',\n",
              " 'House-sized asteroid 2014 RC, which measured 60 feet in diameter, skimmed the Earth this weekend, ABC News reports.',\n",
              " 'Murillo said Nicaragua will ask international experts to help local scientists in understanding what happened.',\n",
              " 'The crater left by the meteorite had a radius of 39 feet and a depth of 16 feet,  said Humberto Saballos, a volcanologist with the Nicaraguan Institute of Territorial Studies who was on the committee.',\n",
              " 'He said it is still not clear if the meteorite disintegrated or was buried.',\n",
              " 'Humberto Garcia, of the Astronomy Center at the National Autonomous University of Nicaragua, said the meteorite could be related to an asteroid that was forecast to pass by the planet Saturday night.',\n",
              " '\"We have to study it more because it could be ice or rock,\" he said.',\n",
              " 'Wilfried Strauch, an adviser to the Institute of Territorial Studies, said it was \"very strange that no one reported a streak of light.',\n",
              " 'We have to ask if anyone has a photo or something.\"',\n",
              " \"Local residents reported hearing a loud boom Saturday night, but said they didn't see anything strange in the sky.\",\n",
              " '\"I was sitting on my porch and I saw nothing, then all of a sudden I heard a large blast.',\n",
              " 'We thought it was a bomb because we felt an expansive wave,\" Jorge Santamaria told The Associated Press.',\n",
              " \"The site of the crater is near Managua's international airport and an air force base.\",\n",
              " 'Only journalists from state media were allowed to visit it.']"
            ]
          },
          "metadata": {
            "tags": []
          },
          "execution_count": 17
        }
      ]
    },
    {
      "cell_type": "markdown",
      "metadata": {
        "id": "fpuRIA7cCfcY",
        "colab_type": "text"
      },
      "source": [
        "# Now iterate through each article and each sentence to encode the words into ids using t.word_index  [10 marks] \n",
        "\n",
        "Here, to get words from sentence you can use `text_to_word_sequence` from keras preprocessing text.\n",
        "\n",
        "1. Import text_to_word_sequence\n",
        "\n",
        "2. Initialize a variable of shape (no.of articles, MAX_SENTS, MAX_SENT_LENGTH) with name `data` with zeros first (you can use numpy [np.zeros](https://docs.scipy.org/doc/numpy/reference/generated/numpy.zeros.html) to initialize with all zeros)and then update it while iterating through the words and sentences in each article."
      ]
    },
    {
      "cell_type": "code",
      "metadata": {
        "id": "YVyClBULCqWj",
        "colab_type": "code",
        "colab": {}
      },
      "source": [
        "import numpy as np\n",
        "from keras.preprocessing.text import text_to_word_sequence\n",
        "data = np.zeros((len(articles), MAX_SENTS, MAX_SENT_LENGTH))\n",
        "\n",
        "for i, sentences in enumerate(articles):\n",
        "  for j, sent in enumerate(sentences):\n",
        "    if j < MAX_SENTS:\n",
        "      wordTokens = text_to_word_sequence(sent)\n",
        "      k = 0\n",
        "      for _, word in enumerate(wordTokens):\n",
        "        if k < MAX_SENT_LENGTH and word in t.word_index and t.word_index[word] < MAX_NB_WORDS:\n",
        "          data[i, j, k] = t.word_index[word]\n",
        "          k = k+1"
      ],
      "execution_count": 0,
      "outputs": []
    },
    {
      "cell_type": "markdown",
      "metadata": {
        "id": "bFdmiDYcE144",
        "colab_type": "text"
      },
      "source": [
        "### Check 3:\n",
        "\n",
        "Accessing first element in data should give something like given below."
      ]
    },
    {
      "cell_type": "code",
      "metadata": {
        "id": "TsFWW5C2Djog",
        "colab_type": "code",
        "outputId": "26af0a44-c277-4796-991d-df0bd20f9970",
        "colab": {
          "base_uri": "https://localhost:8080/",
          "height": 1000
        }
      },
      "source": [
        "data[0, :, :]"
      ],
      "execution_count": 19,
      "outputs": [
        {
          "output_type": "execute_result",
          "data": {
            "text/plain": [
              "array([[3.0000e+00, 4.8100e+02, 4.2700e+02, 7.2110e+03, 8.1000e+01,\n",
              "        3.0000e+00, 3.7330e+03, 3.3100e+02, 5.0000e+00, 3.8910e+03,\n",
              "        3.5000e+02, 4.0000e+00, 1.4310e+03, 2.9580e+03, 1.0000e+00,\n",
              "        8.9000e+01, 1.2000e+01, 4.6400e+02, 0.0000e+00, 0.0000e+00],\n",
              "       [7.5800e+02, 9.5000e+01, 1.0470e+03, 3.0000e+00, 2.6790e+03,\n",
              "        1.7520e+03, 7.0000e+00, 1.8900e+02, 3.0000e+00, 1.2170e+03,\n",
              "        1.0750e+03, 2.0300e+03, 7.0000e+02, 1.5900e+02, 1.0000e+00,\n",
              "        3.0320e+03, 4.4800e+02, 1.0000e+00, 5.5500e+02, 2.3500e+02],\n",
              "       [8.9000e+01, 1.0670e+03, 4.1150e+03, 2.3490e+03, 1.2000e+01,\n",
              "        3.0000e+00, 1.0920e+03, 3.3060e+03, 1.9000e+01, 1.0000e+00,\n",
              "        8.9000e+01, 2.0000e+00, 1.7930e+03, 1.0000e+00, 5.2100e+02,\n",
              "        2.0090e+03, 1.5000e+01, 9.0000e+00, 3.0000e+00, 3.1110e+03],\n",
              "       [1.8100e+02, 3.6400e+03, 9.7200e+02, 2.0000e+02, 2.5560e+03,\n",
              "        4.4000e+01, 6.7750e+03, 1.7220e+03, 1.2520e+03, 5.0000e+00,\n",
              "        1.3317e+04, 1.7936e+04, 1.0000e+00, 7.7800e+02, 3.1000e+01,\n",
              "        7.4000e+02, 3.9900e+03, 6.7000e+01, 8.5000e+01, 0.0000e+00],\n",
              "       [2.3490e+03, 1.2000e+01, 1.5570e+03, 3.8000e+01, 1.0940e+03,\n",
              "        3.5100e+02, 7.7500e+02, 2.0000e+00, 3.6700e+02, 2.6000e+02,\n",
              "        1.7700e+03, 5.0000e+00, 4.4500e+03, 7.0000e+01, 4.9400e+02,\n",
              "        0.0000e+00, 0.0000e+00, 0.0000e+00, 0.0000e+00, 0.0000e+00],\n",
              "       [1.0000e+00, 7.0000e+02, 1.8900e+02, 1.9000e+01, 1.0000e+00,\n",
              "        4.2700e+02, 3.2000e+01, 3.0000e+00, 7.4170e+03, 4.0000e+00,\n",
              "        2.1590e+03, 1.2520e+03, 6.0000e+00, 3.0000e+00, 5.2700e+03,\n",
              "        4.0000e+00, 1.2170e+03, 1.2520e+03, 1.2000e+01, 3.3630e+03],\n",
              "       [1.3000e+01, 1.2000e+01, 1.5000e+01, 8.0000e+00, 1.4900e+02,\n",
              "        2.5000e+01, 5.4300e+02, 6.4000e+01, 1.0000e+00, 4.2700e+02,\n",
              "        3.7270e+03, 4.1000e+01, 9.0000e+00, 1.8500e+03, 0.0000e+00,\n",
              "        0.0000e+00, 0.0000e+00, 0.0000e+00, 0.0000e+00, 0.0000e+00],\n",
              "       [3.3630e+03, 5.7330e+03, 4.0000e+00, 1.0000e+00, 5.8750e+03,\n",
              "        6.1400e+02, 2.1000e+01, 1.0000e+00, 3.1100e+02, 3.4380e+03,\n",
              "        7.9400e+02, 4.0000e+00, 1.5570e+03, 1.2000e+01, 1.0000e+00,\n",
              "        4.2700e+02, 6.9000e+01, 2.3000e+01, 7.8700e+02, 2.0000e+00],\n",
              "       [3.7000e+01, 1.7000e+01, 2.0000e+00, 1.7930e+03, 1.5000e+01,\n",
              "        5.2000e+01, 1.2000e+02, 1.5000e+01, 6.9000e+01, 2.3000e+01,\n",
              "        4.9210e+03, 4.1000e+01, 1.9630e+03, 1.3000e+01, 1.2000e+01,\n",
              "        0.0000e+00, 0.0000e+00, 0.0000e+00, 0.0000e+00, 0.0000e+00],\n",
              "       [4.7360e+03, 3.3380e+03, 2.4000e+01, 3.9690e+03, 2.0000e+00,\n",
              "        1.0000e+00, 1.3160e+03, 4.0000e+00, 3.0720e+03, 1.6530e+03,\n",
              "        1.2000e+01, 1.5000e+01, 9.0000e+00, 1.9500e+02, 1.4200e+03,\n",
              "        7.0000e+00, 5.8000e+01, 4.0000e+01, 9.5000e+01, 3.0000e+00],\n",
              "       [3.7000e+01, 1.7000e+01, 2.0000e+00, 1.0940e+03, 6.4000e+01,\n",
              "        5.1000e+02, 2.0000e+01, 3.0000e+00, 2.5000e+02, 4.1000e+01,\n",
              "        2.6400e+02, 0.0000e+00, 0.0000e+00, 0.0000e+00, 0.0000e+00,\n",
              "        0.0000e+00, 0.0000e+00, 0.0000e+00, 0.0000e+00, 0.0000e+00],\n",
              "       [2.6000e+02, 7.5800e+02, 9.5000e+01, 1.0470e+03, 3.0000e+00,\n",
              "        1.8060e+03, 1.7520e+03, 5.3100e+02, 2.7600e+02, 2.9000e+01,\n",
              "        1.2000e+01, 3.3000e+01, 7.0300e+02, 1.6300e+02, 8.9200e+02,\n",
              "        1.4200e+03, 5.0000e+00, 1.0000e+00, 2.0810e+03, 0.0000e+00],\n",
              "       [3.5000e+01, 9.0000e+00, 2.0570e+03, 1.0000e+01, 1.1600e+02,\n",
              "        5.8250e+03, 6.0000e+00, 3.5000e+01, 5.7600e+02, 6.5600e+02,\n",
              "        1.0400e+02, 5.9000e+01, 4.0000e+00, 3.0000e+00, 2.4100e+03,\n",
              "        3.5000e+01, 2.4100e+02, 3.0000e+00, 5.1200e+02, 1.9110e+03],\n",
              "       [3.7000e+01, 3.4100e+02, 1.5000e+01, 9.0000e+00, 3.0000e+00,\n",
              "        2.0820e+03, 1.2000e+02, 3.7000e+01, 8.8100e+02, 2.4000e+01,\n",
              "        4.4510e+03, 2.5840e+03, 4.3150e+03, 4.9220e+03, 5.5000e+01,\n",
              "        1.0000e+00, 5.5500e+02, 2.3500e+02, 0.0000e+00, 0.0000e+00],\n",
              "       [1.0000e+00, 2.5500e+02, 4.0000e+00, 1.0000e+00, 7.0000e+02,\n",
              "        8.0000e+00, 1.5900e+02, 3.9610e+03, 3.5100e+02, 4.4800e+02,\n",
              "        6.0000e+00, 2.4000e+01, 1.5500e+02, 4.6500e+02, 1.9290e+03,\n",
              "        0.0000e+00, 0.0000e+00, 0.0000e+00, 0.0000e+00, 0.0000e+00],\n",
              "       [1.2600e+02, 9.2100e+02, 2.2000e+01, 4.7000e+01, 1.0000e+02,\n",
              "        3.6000e+01, 1.8330e+03, 2.0000e+00, 1.2120e+03, 1.5000e+01,\n",
              "        0.0000e+00, 0.0000e+00, 0.0000e+00, 0.0000e+00, 0.0000e+00,\n",
              "        0.0000e+00, 0.0000e+00, 0.0000e+00, 0.0000e+00, 0.0000e+00],\n",
              "       [0.0000e+00, 0.0000e+00, 0.0000e+00, 0.0000e+00, 0.0000e+00,\n",
              "        0.0000e+00, 0.0000e+00, 0.0000e+00, 0.0000e+00, 0.0000e+00,\n",
              "        0.0000e+00, 0.0000e+00, 0.0000e+00, 0.0000e+00, 0.0000e+00,\n",
              "        0.0000e+00, 0.0000e+00, 0.0000e+00, 0.0000e+00, 0.0000e+00],\n",
              "       [0.0000e+00, 0.0000e+00, 0.0000e+00, 0.0000e+00, 0.0000e+00,\n",
              "        0.0000e+00, 0.0000e+00, 0.0000e+00, 0.0000e+00, 0.0000e+00,\n",
              "        0.0000e+00, 0.0000e+00, 0.0000e+00, 0.0000e+00, 0.0000e+00,\n",
              "        0.0000e+00, 0.0000e+00, 0.0000e+00, 0.0000e+00, 0.0000e+00],\n",
              "       [0.0000e+00, 0.0000e+00, 0.0000e+00, 0.0000e+00, 0.0000e+00,\n",
              "        0.0000e+00, 0.0000e+00, 0.0000e+00, 0.0000e+00, 0.0000e+00,\n",
              "        0.0000e+00, 0.0000e+00, 0.0000e+00, 0.0000e+00, 0.0000e+00,\n",
              "        0.0000e+00, 0.0000e+00, 0.0000e+00, 0.0000e+00, 0.0000e+00],\n",
              "       [0.0000e+00, 0.0000e+00, 0.0000e+00, 0.0000e+00, 0.0000e+00,\n",
              "        0.0000e+00, 0.0000e+00, 0.0000e+00, 0.0000e+00, 0.0000e+00,\n",
              "        0.0000e+00, 0.0000e+00, 0.0000e+00, 0.0000e+00, 0.0000e+00,\n",
              "        0.0000e+00, 0.0000e+00, 0.0000e+00, 0.0000e+00, 0.0000e+00]])"
            ]
          },
          "metadata": {
            "tags": []
          },
          "execution_count": 19
        }
      ]
    },
    {
      "cell_type": "markdown",
      "metadata": {
        "id": "hTG6JySHehkT",
        "colab_type": "text"
      },
      "source": [
        "10# Repeat the same process for the `Headings` as well. Use variables with names `texts_heading` and `articles_heading` accordingly. [10 marks] "
      ]
    },
    {
      "cell_type": "code",
      "metadata": {
        "id": "_CliiIhLemJV",
        "colab_type": "code",
        "colab": {}
      },
      "source": [
        "texts_heading = []\n",
        "articles_heading = []\n",
        "\n",
        "for text in dataset['Headline']:\n",
        "  texts_heading.append(text)\n",
        "  sentences = sent_tokenize(text)\n",
        "  articles_heading.append(sentences)\n",
        "\n",
        "data_heading = np.zeros((len(articles_heading), MAX_SENTS_HEADING, MAX_SENT_LENGTH))\n",
        "\n",
        "for i, sentences in enumerate(articles_heading):\n",
        "  for j, sent in enumerate(sentences):\n",
        "    if j < MAX_SENTS_HEADING:\n",
        "      wordTokens = text_to_word_sequence(sent)\n",
        "      k = 0\n",
        "      for _, word in enumerate(wordTokens):\n",
        "        if k < MAX_SENT_LENGTH and word in t.word_index and t.word_index[word] < MAX_NB_WORDS:\n",
        "          data_heading[i, j, k] = t.word_index[word]\n",
        "          k = k+1"
      ],
      "execution_count": 0,
      "outputs": []
    },
    {
      "cell_type": "markdown",
      "metadata": {
        "id": "iaH0Ey1qe_Co",
        "colab_type": "text"
      },
      "source": [
        "### Now the features are ready, lets make the labels ready for the model to process.\n",
        "\n",
        "### Convert labels into one-hot vectors\n",
        "\n",
        "You can use [get_dummies](https://pandas.pydata.org/pandas-docs/stable/generated/pandas.get_dummies.html) in pandas to create one-hot vectors."
      ]
    },
    {
      "cell_type": "code",
      "metadata": {
        "id": "Zq-VcgM8fat1",
        "colab_type": "code",
        "colab": {}
      },
      "source": [
        "labels = np.array(pd.get_dummies(dataset['Stance']))"
      ],
      "execution_count": 0,
      "outputs": []
    },
    {
      "cell_type": "markdown",
      "metadata": {
        "id": "40mA8FI2fcxZ",
        "colab_type": "text"
      },
      "source": [
        "### Check 4:\n",
        "\n",
        "The shape of data and labels shoould match the given below numbers."
      ]
    },
    {
      "cell_type": "code",
      "metadata": {
        "id": "vpEWEnjFfnFR",
        "colab_type": "code",
        "outputId": "6acc368f-a83f-4792-e90f-3b8688206260",
        "colab": {
          "base_uri": "https://localhost:8080/",
          "height": 51
        }
      },
      "source": [
        "print('Shape of data tensor:', data.shape)\n",
        "print('Shape of label tensor:', labels.shape)"
      ],
      "execution_count": 22,
      "outputs": [
        {
          "output_type": "stream",
          "text": [
            "Shape of data tensor: (49972, 20, 20)\n",
            "Shape of label tensor: (49972, 4)\n"
          ],
          "name": "stdout"
        }
      ]
    },
    {
      "cell_type": "markdown",
      "metadata": {
        "id": "sDOxHdR3frDu",
        "colab_type": "text"
      },
      "source": [
        "### Shuffle the data"
      ]
    },
    {
      "cell_type": "code",
      "metadata": {
        "id": "-Ra-yYTvfzRt",
        "colab_type": "code",
        "colab": {}
      },
      "source": [
        "## get numbers upto no.of articles\n",
        "indices = np.arange(data.shape[0])\n",
        "## shuffle the numbers\n",
        "np.random.shuffle(indices)"
      ],
      "execution_count": 0,
      "outputs": []
    },
    {
      "cell_type": "code",
      "metadata": {
        "id": "LKnSqwIFf3Iy",
        "colab_type": "code",
        "colab": {}
      },
      "source": [
        "## shuffle the data\n",
        "data = data[indices]\n",
        "data_heading = data_heading[indices]\n",
        "## shuffle the labels according to data\n",
        "labels = labels[indices]"
      ],
      "execution_count": 0,
      "outputs": []
    },
    {
      "cell_type": "markdown",
      "metadata": {
        "id": "JcOFVfPBf9kA",
        "colab_type": "text"
      },
      "source": [
        "### Split into train and validation sets. Split the train set 80:20 ratio to get the train and validation sets.\n",
        "\n",
        "\n",
        "Use the variable names as given below:\n",
        "\n",
        "x_train, x_val - for body of articles.\n",
        "\n",
        "x-heading_train, x_heading_val - for heading of articles.\n",
        "\n",
        "y_train - for training labels.\n",
        "\n",
        "y_val - for validation labels.\n",
        "\n"
      ]
    },
    {
      "cell_type": "code",
      "metadata": {
        "id": "2neh9Wcof8iR",
        "colab_type": "code",
        "colab": {}
      },
      "source": [
        "from sklearn.model_selection import train_test_split\n",
        "\n",
        "x_train, x_val, x_heading_train, x_heading_val, y_train, y_val = train_test_split(data, data_heading, labels, test_size=0.2, random_state=42)"
      ],
      "execution_count": 0,
      "outputs": []
    },
    {
      "cell_type": "markdown",
      "metadata": {
        "id": "UTyvoHrsgMDw",
        "colab_type": "text"
      },
      "source": [
        "### Check 5:\n",
        "\n",
        "The shape of x_train, x_val, y_train and y_val should match the below numbers."
      ]
    },
    {
      "cell_type": "code",
      "metadata": {
        "id": "KLEbiw2Yghe2",
        "colab_type": "code",
        "outputId": "ef7ebe69-9268-42d8-cac2-a5353cb5ebc3",
        "colab": {
          "base_uri": "https://localhost:8080/",
          "height": 85
        }
      },
      "source": [
        "print(x_train.shape)\n",
        "print(y_train.shape)\n",
        "\n",
        "print(x_val.shape)\n",
        "print(y_val.shape)"
      ],
      "execution_count": 26,
      "outputs": [
        {
          "output_type": "stream",
          "text": [
            "(39977, 20, 20)\n",
            "(39977, 4)\n",
            "(9995, 20, 20)\n",
            "(9995, 4)\n"
          ],
          "name": "stdout"
        }
      ]
    },
    {
      "cell_type": "markdown",
      "metadata": {
        "id": "yNnoBtArhJ1E",
        "colab_type": "text"
      },
      "source": [
        "### Create embedding matrix with the glove embeddings\n",
        "\n",
        "\n",
        "Run the below code to create embedding_matrix which has all the words and their glove embedding if present in glove word list."
      ]
    },
    {
      "cell_type": "code",
      "metadata": {
        "id": "eKqn2IL2ZF8v",
        "colab_type": "code",
        "outputId": "ffb7f4c2-d585-4812-9f5b-5d16378845b1",
        "colab": {
          "base_uri": "https://localhost:8080/",
          "height": 34
        }
      },
      "source": [
        "# load the whole embedding into memory\n",
        "embeddings_index = dict()\n",
        "f = open('./glove.6B.100d.txt')\n",
        "for line in f:\n",
        "\tvalues = line.split()\n",
        "\tword = values[0]\n",
        "\tcoefs = np.asarray(values[1:], dtype='float32')\n",
        "\tembeddings_index[word] = coefs\n",
        "f.close()\n",
        "print('Loaded %s word vectors.' % len(embeddings_index))\n",
        "\n",
        "# create a weight matrix for words in training docs\n",
        "embedding_matrix = np.zeros((len(t.word_index.items()), 100))\n",
        "\n",
        "\n",
        "for word, i in t.word_index.items():\n",
        "\tembedding_vector = embeddings_index.get(word)\n",
        "\tif embedding_vector is not None:\n",
        "\t\tembedding_matrix[i] = embedding_vector"
      ],
      "execution_count": 27,
      "outputs": [
        {
          "output_type": "stream",
          "text": [
            "Loaded 400000 word vectors.\n"
          ],
          "name": "stdout"
        }
      ]
    },
    {
      "cell_type": "markdown",
      "metadata": {
        "id": "LRi4o3ZspDFU",
        "colab_type": "text"
      },
      "source": [
        "# Try the sequential model approach and report the accuracy score. [20 marks]  "
      ]
    },
    {
      "cell_type": "markdown",
      "metadata": {
        "id": "zSZDnPWkw2ZZ",
        "colab_type": "text"
      },
      "source": [
        "### Import layers from Keras to build the model"
      ]
    },
    {
      "cell_type": "code",
      "metadata": {
        "id": "5AgwQsfMrzAQ",
        "colab_type": "code",
        "colab": {}
      },
      "source": [
        "from tensorflow.keras.layers import Input, Embedding, Dropout, LSTM, Dot, Dense, Reshape, BatchNormalization\n",
        "from tensorflow.keras.models import Model"
      ],
      "execution_count": 0,
      "outputs": []
    },
    {
      "cell_type": "markdown",
      "metadata": {
        "id": "gpkVhIbx3gr1",
        "colab_type": "text"
      },
      "source": [
        "### Model"
      ]
    },
    {
      "cell_type": "code",
      "metadata": {
        "id": "O-3bzluTtitm",
        "colab_type": "code",
        "colab": {}
      },
      "source": [
        "#Encoder part \n",
        "inputs1 = Input(shape=(x_train.shape[1], x_train.shape[2], ))\n",
        "fe1 = Embedding(len(t.word_index.items()), 100, mask_zero=True)(inputs1)\n",
        "fe2 = Dropout(0.5)(fe1)\n",
        "fe3 = Reshape((400, 100))(fe2)\n",
        "fe4 = LSTM(128)(fe3)\n",
        "\n",
        "#Decoder part\n",
        "#partial caption sequence model\n",
        "inputs2 = Input(shape=(x_heading_train.shape[1], x_heading_train.shape[2],))\n",
        "se1 = Embedding(len(t.word_index.items()), 100, mask_zero=True)(inputs2)\n",
        "se2 = Dropout(0.5)(se1)\n",
        "se3 = Reshape((20, 100))(se2)\n",
        "se4 = LSTM(128)(se3)\n",
        "\n",
        "# Decoder feedforward \n",
        "decoder1 = Dot(1, normalize=True)([fe4, se4])\n",
        "decoder2 = Dense(256, activation='relu')(decoder1)\n",
        "outputs = Dense(4, activation='softmax')(decoder2)\n",
        "\n",
        "#merging two models\n",
        "model = Model(inputs=[inputs1, inputs2], outputs=outputs)"
      ],
      "execution_count": 0,
      "outputs": []
    },
    {
      "cell_type": "code",
      "metadata": {
        "id": "G_8QXh-rmPFq",
        "colab_type": "code",
        "outputId": "b94a0158-16ef-4979-9090-29bb9f088ea5",
        "colab": {
          "base_uri": "https://localhost:8080/",
          "height": 612
        }
      },
      "source": [
        "model.summary()"
      ],
      "execution_count": 30,
      "outputs": [
        {
          "output_type": "stream",
          "text": [
            "Model: \"model\"\n",
            "__________________________________________________________________________________________________\n",
            "Layer (type)                    Output Shape         Param #     Connected to                     \n",
            "==================================================================================================\n",
            "input_1 (InputLayer)            [(None, 20, 20)]     0                                            \n",
            "__________________________________________________________________________________________________\n",
            "input_2 (InputLayer)            [(None, 1, 20)]      0                                            \n",
            "__________________________________________________________________________________________________\n",
            "embedding (Embedding)           (None, 20, 20, 100)  2787300     input_1[0][0]                    \n",
            "__________________________________________________________________________________________________\n",
            "embedding_1 (Embedding)         (None, 1, 20, 100)   2787300     input_2[0][0]                    \n",
            "__________________________________________________________________________________________________\n",
            "dropout (Dropout)               (None, 20, 20, 100)  0           embedding[0][0]                  \n",
            "__________________________________________________________________________________________________\n",
            "dropout_1 (Dropout)             (None, 1, 20, 100)   0           embedding_1[0][0]                \n",
            "__________________________________________________________________________________________________\n",
            "reshape (Reshape)               (None, 400, 100)     0           dropout[0][0]                    \n",
            "__________________________________________________________________________________________________\n",
            "reshape_1 (Reshape)             (None, 20, 100)      0           dropout_1[0][0]                  \n",
            "__________________________________________________________________________________________________\n",
            "lstm (LSTM)                     (None, 128)          117248      reshape[0][0]                    \n",
            "__________________________________________________________________________________________________\n",
            "lstm_1 (LSTM)                   (None, 128)          117248      reshape_1[0][0]                  \n",
            "__________________________________________________________________________________________________\n",
            "dot (Dot)                       (None, 1)            0           lstm[0][0]                       \n",
            "                                                                 lstm_1[0][0]                     \n",
            "__________________________________________________________________________________________________\n",
            "dense (Dense)                   (None, 256)          512         dot[0][0]                        \n",
            "__________________________________________________________________________________________________\n",
            "dense_1 (Dense)                 (None, 4)            1028        dense[0][0]                      \n",
            "==================================================================================================\n",
            "Total params: 5,810,636\n",
            "Trainable params: 5,810,636\n",
            "Non-trainable params: 0\n",
            "__________________________________________________________________________________________________\n"
          ],
          "name": "stdout"
        }
      ]
    },
    {
      "cell_type": "code",
      "metadata": {
        "id": "lzZW3QqSlzP7",
        "colab_type": "code",
        "colab": {}
      },
      "source": [
        "model.layers[2].set_weights([embedding_matrix])\n",
        "model.layers[2].trainable = False\n",
        "model.layers[3].set_weights([embedding_matrix])\n",
        "model.layers[3].trainable = False"
      ],
      "execution_count": 0,
      "outputs": []
    },
    {
      "cell_type": "code",
      "metadata": {
        "id": "XW6FWJ2KmFIK",
        "colab_type": "code",
        "outputId": "a395c2b2-3b4a-4665-8f89-47aa52e1a37d",
        "colab": {
          "base_uri": "https://localhost:8080/",
          "height": 612
        }
      },
      "source": [
        "model.summary()"
      ],
      "execution_count": 32,
      "outputs": [
        {
          "output_type": "stream",
          "text": [
            "Model: \"model\"\n",
            "__________________________________________________________________________________________________\n",
            "Layer (type)                    Output Shape         Param #     Connected to                     \n",
            "==================================================================================================\n",
            "input_1 (InputLayer)            [(None, 20, 20)]     0                                            \n",
            "__________________________________________________________________________________________________\n",
            "input_2 (InputLayer)            [(None, 1, 20)]      0                                            \n",
            "__________________________________________________________________________________________________\n",
            "embedding (Embedding)           (None, 20, 20, 100)  2787300     input_1[0][0]                    \n",
            "__________________________________________________________________________________________________\n",
            "embedding_1 (Embedding)         (None, 1, 20, 100)   2787300     input_2[0][0]                    \n",
            "__________________________________________________________________________________________________\n",
            "dropout (Dropout)               (None, 20, 20, 100)  0           embedding[0][0]                  \n",
            "__________________________________________________________________________________________________\n",
            "dropout_1 (Dropout)             (None, 1, 20, 100)   0           embedding_1[0][0]                \n",
            "__________________________________________________________________________________________________\n",
            "reshape (Reshape)               (None, 400, 100)     0           dropout[0][0]                    \n",
            "__________________________________________________________________________________________________\n",
            "reshape_1 (Reshape)             (None, 20, 100)      0           dropout_1[0][0]                  \n",
            "__________________________________________________________________________________________________\n",
            "lstm (LSTM)                     (None, 128)          117248      reshape[0][0]                    \n",
            "__________________________________________________________________________________________________\n",
            "lstm_1 (LSTM)                   (None, 128)          117248      reshape_1[0][0]                  \n",
            "__________________________________________________________________________________________________\n",
            "dot (Dot)                       (None, 1)            0           lstm[0][0]                       \n",
            "                                                                 lstm_1[0][0]                     \n",
            "__________________________________________________________________________________________________\n",
            "dense (Dense)                   (None, 256)          512         dot[0][0]                        \n",
            "__________________________________________________________________________________________________\n",
            "dense_1 (Dense)                 (None, 4)            1028        dense[0][0]                      \n",
            "==================================================================================================\n",
            "Total params: 5,810,636\n",
            "Trainable params: 236,036\n",
            "Non-trainable params: 5,574,600\n",
            "__________________________________________________________________________________________________\n"
          ],
          "name": "stdout"
        }
      ]
    },
    {
      "cell_type": "markdown",
      "metadata": {
        "id": "C5Xrd-JQ3id7",
        "colab_type": "text"
      },
      "source": [
        "### Compile and fit the model"
      ]
    },
    {
      "cell_type": "code",
      "metadata": {
        "id": "MlduHU2CovxC",
        "colab_type": "code",
        "colab": {}
      },
      "source": [
        "model.compile(loss='categorical_crossentropy', optimizer='adam')"
      ],
      "execution_count": 0,
      "outputs": []
    },
    {
      "cell_type": "code",
      "metadata": {
        "id": "VAIsFDs1tFLa",
        "colab_type": "code",
        "colab": {}
      },
      "source": [
        "from tensorflow.keras.callbacks import ModelCheckpoint\n",
        "\n",
        "#Saving the model after every Epoch using ModelCheckpoint callback\n",
        "model_checkpoint=ModelCheckpoint('FNC.h5', \n",
        "                                 save_best_only=False,\n",
        "                                 verbose=1)"
      ],
      "execution_count": 0,
      "outputs": []
    },
    {
      "cell_type": "code",
      "metadata": {
        "id": "CM3yCmjQoCM3",
        "colab_type": "code",
        "outputId": "1639eaf2-1bef-4f09-fc85-301800461655",
        "colab": {
          "base_uri": "https://localhost:8080/",
          "height": 1000
        }
      },
      "source": [
        "model.fit([x_train, x_heading_train], y_train, epochs = 50, validation_data=([x_val, x_heading_val], y_val), callbacks=[model_checkpoint])"
      ],
      "execution_count": 35,
      "outputs": [
        {
          "output_type": "stream",
          "text": [
            "Epoch 1/50\n",
            "1248/1250 [============================>.] - ETA: 0s - loss: 0.8095\n",
            "Epoch 00001: saving model to FNC.h5\n",
            "1250/1250 [==============================] - 34s 27ms/step - loss: 0.8092 - val_loss: 0.7912\n",
            "Epoch 2/50\n",
            "1250/1250 [==============================] - ETA: 0s - loss: 0.7924\n",
            "Epoch 00002: saving model to FNC.h5\n",
            "1250/1250 [==============================] - 33s 27ms/step - loss: 0.7924 - val_loss: 0.7759\n",
            "Epoch 3/50\n",
            "1249/1250 [============================>.] - ETA: 0s - loss: 0.7791\n",
            "Epoch 00003: saving model to FNC.h5\n",
            "1250/1250 [==============================] - 33s 26ms/step - loss: 0.7794 - val_loss: 0.7607\n",
            "Epoch 4/50\n",
            "1249/1250 [============================>.] - ETA: 0s - loss: 0.7658\n",
            "Epoch 00004: saving model to FNC.h5\n",
            "1250/1250 [==============================] - 33s 26ms/step - loss: 0.7658 - val_loss: 0.7474\n",
            "Epoch 5/50\n",
            "1250/1250 [==============================] - ETA: 0s - loss: 0.7251\n",
            "Epoch 00005: saving model to FNC.h5\n",
            "1250/1250 [==============================] - 33s 26ms/step - loss: 0.7251 - val_loss: 0.6548\n",
            "Epoch 6/50\n",
            "1249/1250 [============================>.] - ETA: 0s - loss: 0.6612\n",
            "Epoch 00006: saving model to FNC.h5\n",
            "1250/1250 [==============================] - 33s 26ms/step - loss: 0.6613 - val_loss: 0.6172\n",
            "Epoch 7/50\n",
            "1248/1250 [============================>.] - ETA: 0s - loss: 0.6307\n",
            "Epoch 00007: saving model to FNC.h5\n",
            "1250/1250 [==============================] - 33s 26ms/step - loss: 0.6308 - val_loss: 0.5962\n",
            "Epoch 8/50\n",
            "1250/1250 [==============================] - ETA: 0s - loss: 0.6107\n",
            "Epoch 00008: saving model to FNC.h5\n",
            "1250/1250 [==============================] - 33s 26ms/step - loss: 0.6107 - val_loss: 0.5744\n",
            "Epoch 9/50\n",
            "1249/1250 [============================>.] - ETA: 0s - loss: 0.5930\n",
            "Epoch 00009: saving model to FNC.h5\n",
            "1250/1250 [==============================] - 33s 26ms/step - loss: 0.5928 - val_loss: 0.5641\n",
            "Epoch 10/50\n",
            "1250/1250 [==============================] - ETA: 0s - loss: 0.5712\n",
            "Epoch 00010: saving model to FNC.h5\n",
            "1250/1250 [==============================] - 33s 26ms/step - loss: 0.5712 - val_loss: 0.5301\n",
            "Epoch 11/50\n",
            "1248/1250 [============================>.] - ETA: 0s - loss: 0.5479\n",
            "Epoch 00011: saving model to FNC.h5\n",
            "1250/1250 [==============================] - 33s 26ms/step - loss: 0.5476 - val_loss: 0.5041\n",
            "Epoch 12/50\n",
            "1248/1250 [============================>.] - ETA: 0s - loss: 0.5264\n",
            "Epoch 00012: saving model to FNC.h5\n",
            "1250/1250 [==============================] - 33s 26ms/step - loss: 0.5265 - val_loss: 0.4790\n",
            "Epoch 13/50\n",
            "1249/1250 [============================>.] - ETA: 0s - loss: 0.5007\n",
            "Epoch 00013: saving model to FNC.h5\n",
            "1250/1250 [==============================] - 33s 26ms/step - loss: 0.5005 - val_loss: 0.4585\n",
            "Epoch 14/50\n",
            "1249/1250 [============================>.] - ETA: 0s - loss: 0.4762\n",
            "Epoch 00014: saving model to FNC.h5\n",
            "1250/1250 [==============================] - 33s 26ms/step - loss: 0.4760 - val_loss: 0.4458\n",
            "Epoch 15/50\n",
            "1248/1250 [============================>.] - ETA: 0s - loss: 0.4566\n",
            "Epoch 00015: saving model to FNC.h5\n",
            "1250/1250 [==============================] - 33s 26ms/step - loss: 0.4564 - val_loss: 0.4246\n",
            "Epoch 16/50\n",
            "1249/1250 [============================>.] - ETA: 0s - loss: 0.4390\n",
            "Epoch 00016: saving model to FNC.h5\n",
            "1250/1250 [==============================] - 33s 26ms/step - loss: 0.4388 - val_loss: 0.4024\n",
            "Epoch 17/50\n",
            "1249/1250 [============================>.] - ETA: 0s - loss: 0.4256\n",
            "Epoch 00017: saving model to FNC.h5\n",
            "1250/1250 [==============================] - 33s 26ms/step - loss: 0.4257 - val_loss: 0.3928\n",
            "Epoch 18/50\n",
            "1249/1250 [============================>.] - ETA: 0s - loss: 0.6635\n",
            "Epoch 00018: saving model to FNC.h5\n",
            "1250/1250 [==============================] - 33s 26ms/step - loss: 0.6635 - val_loss: 0.6999\n",
            "Epoch 19/50\n",
            "1249/1250 [============================>.] - ETA: 0s - loss: 0.6834\n",
            "Epoch 00019: saving model to FNC.h5\n",
            "1250/1250 [==============================] - 33s 26ms/step - loss: 0.6832 - val_loss: 0.5798\n",
            "Epoch 20/50\n",
            "1249/1250 [============================>.] - ETA: 0s - loss: 0.7471\n",
            "Epoch 00020: saving model to FNC.h5\n",
            "1250/1250 [==============================] - 33s 26ms/step - loss: 0.7471 - val_loss: 0.7207\n",
            "Epoch 21/50\n",
            "1249/1250 [============================>.] - ETA: 0s - loss: 0.7225\n",
            "Epoch 00021: saving model to FNC.h5\n",
            "1250/1250 [==============================] - 33s 26ms/step - loss: 0.7226 - val_loss: 0.6984\n",
            "Epoch 22/50\n",
            "1250/1250 [==============================] - ETA: 0s - loss: 0.7004\n",
            "Epoch 00022: saving model to FNC.h5\n",
            "1250/1250 [==============================] - 33s 26ms/step - loss: 0.7004 - val_loss: 0.6762\n",
            "Epoch 23/50\n",
            "1248/1250 [============================>.] - ETA: 0s - loss: 0.6842\n",
            "Epoch 00023: saving model to FNC.h5\n",
            "1250/1250 [==============================] - 33s 26ms/step - loss: 0.6841 - val_loss: 0.6752\n",
            "Epoch 24/50\n",
            "1248/1250 [============================>.] - ETA: 0s - loss: 0.6204\n",
            "Epoch 00024: saving model to FNC.h5\n",
            "1250/1250 [==============================] - 33s 26ms/step - loss: 0.6201 - val_loss: 0.4525\n",
            "Epoch 25/50\n",
            "1250/1250 [==============================] - ETA: 0s - loss: 0.4460\n",
            "Epoch 00025: saving model to FNC.h5\n",
            "1250/1250 [==============================] - 33s 26ms/step - loss: 0.4460 - val_loss: 0.3958\n",
            "Epoch 26/50\n",
            "1249/1250 [============================>.] - ETA: 0s - loss: 0.4092\n",
            "Epoch 00026: saving model to FNC.h5\n",
            "1250/1250 [==============================] - 33s 26ms/step - loss: 0.4091 - val_loss: 0.3682\n",
            "Epoch 27/50\n",
            "1248/1250 [============================>.] - ETA: 0s - loss: 0.3852\n",
            "Epoch 00027: saving model to FNC.h5\n",
            "1250/1250 [==============================] - 33s 27ms/step - loss: 0.3852 - val_loss: 0.3599\n",
            "Epoch 28/50\n",
            "1250/1250 [==============================] - ETA: 0s - loss: 0.3730\n",
            "Epoch 00028: saving model to FNC.h5\n",
            "1250/1250 [==============================] - 34s 27ms/step - loss: 0.3730 - val_loss: 0.3494\n",
            "Epoch 29/50\n",
            "1250/1250 [==============================] - ETA: 0s - loss: 0.3589\n",
            "Epoch 00029: saving model to FNC.h5\n",
            "1250/1250 [==============================] - 34s 27ms/step - loss: 0.3589 - val_loss: 0.3387\n",
            "Epoch 30/50\n",
            "1249/1250 [============================>.] - ETA: 0s - loss: 0.3487\n",
            "Epoch 00030: saving model to FNC.h5\n",
            "1250/1250 [==============================] - 34s 27ms/step - loss: 0.3485 - val_loss: 0.3440\n",
            "Epoch 31/50\n",
            "1248/1250 [============================>.] - ETA: 0s - loss: 0.3410\n",
            "Epoch 00031: saving model to FNC.h5\n",
            "1250/1250 [==============================] - 34s 27ms/step - loss: 0.3412 - val_loss: 0.3310\n",
            "Epoch 32/50\n",
            "1248/1250 [============================>.] - ETA: 0s - loss: 0.3266\n",
            "Epoch 00032: saving model to FNC.h5\n",
            "1250/1250 [==============================] - 34s 27ms/step - loss: 0.3264 - val_loss: 0.3049\n",
            "Epoch 33/50\n",
            "1250/1250 [==============================] - ETA: 0s - loss: 0.3168\n",
            "Epoch 00033: saving model to FNC.h5\n",
            "1250/1250 [==============================] - 34s 27ms/step - loss: 0.3168 - val_loss: 0.3066\n",
            "Epoch 34/50\n",
            "1248/1250 [============================>.] - ETA: 0s - loss: 0.3085\n",
            "Epoch 00034: saving model to FNC.h5\n",
            "1250/1250 [==============================] - 34s 27ms/step - loss: 0.3087 - val_loss: 0.2924\n",
            "Epoch 35/50\n",
            "1249/1250 [============================>.] - ETA: 0s - loss: 0.2999\n",
            "Epoch 00035: saving model to FNC.h5\n",
            "1250/1250 [==============================] - 34s 27ms/step - loss: 0.3000 - val_loss: 0.2898\n",
            "Epoch 36/50\n",
            "1249/1250 [============================>.] - ETA: 0s - loss: 0.2940\n",
            "Epoch 00036: saving model to FNC.h5\n",
            "1250/1250 [==============================] - 34s 27ms/step - loss: 0.2941 - val_loss: 0.2826\n",
            "Epoch 37/50\n",
            "1249/1250 [============================>.] - ETA: 0s - loss: 0.2863\n",
            "Epoch 00037: saving model to FNC.h5\n",
            "1250/1250 [==============================] - 34s 27ms/step - loss: 0.2863 - val_loss: 0.2819\n",
            "Epoch 38/50\n",
            "1249/1250 [============================>.] - ETA: 0s - loss: 0.2800\n",
            "Epoch 00038: saving model to FNC.h5\n",
            "1250/1250 [==============================] - 34s 27ms/step - loss: 0.2803 - val_loss: 0.2737\n",
            "Epoch 39/50\n",
            "1249/1250 [============================>.] - ETA: 0s - loss: 0.2734\n",
            "Epoch 00039: saving model to FNC.h5\n",
            "1250/1250 [==============================] - 34s 27ms/step - loss: 0.2734 - val_loss: 0.2645\n",
            "Epoch 40/50\n",
            "1248/1250 [============================>.] - ETA: 0s - loss: 0.2690\n",
            "Epoch 00040: saving model to FNC.h5\n",
            "1250/1250 [==============================] - 33s 26ms/step - loss: 0.2696 - val_loss: 0.2665\n",
            "Epoch 41/50\n",
            "1250/1250 [==============================] - ETA: 0s - loss: 0.2587\n",
            "Epoch 00041: saving model to FNC.h5\n",
            "1250/1250 [==============================] - 33s 26ms/step - loss: 0.2587 - val_loss: 0.2622\n",
            "Epoch 42/50\n",
            "1248/1250 [============================>.] - ETA: 0s - loss: 0.2557\n",
            "Epoch 00042: saving model to FNC.h5\n",
            "1250/1250 [==============================] - 33s 26ms/step - loss: 0.2556 - val_loss: 0.2569\n",
            "Epoch 43/50\n",
            "1248/1250 [============================>.] - ETA: 0s - loss: 0.2539\n",
            "Epoch 00043: saving model to FNC.h5\n",
            "1250/1250 [==============================] - 33s 26ms/step - loss: 0.2542 - val_loss: 0.2592\n",
            "Epoch 44/50\n",
            "1248/1250 [============================>.] - ETA: 0s - loss: 0.2508\n",
            "Epoch 00044: saving model to FNC.h5\n",
            "1250/1250 [==============================] - 33s 26ms/step - loss: 0.2509 - val_loss: 0.2546\n",
            "Epoch 45/50\n",
            "1249/1250 [============================>.] - ETA: 0s - loss: 0.2425\n",
            "Epoch 00045: saving model to FNC.h5\n",
            "1250/1250 [==============================] - 33s 26ms/step - loss: 0.2425 - val_loss: 0.2479\n",
            "Epoch 46/50\n",
            "1249/1250 [============================>.] - ETA: 0s - loss: 0.2416\n",
            "Epoch 00046: saving model to FNC.h5\n",
            "1250/1250 [==============================] - 33s 26ms/step - loss: 0.2416 - val_loss: 0.2450\n",
            "Epoch 47/50\n",
            "1248/1250 [============================>.] - ETA: 0s - loss: 0.2400\n",
            "Epoch 00047: saving model to FNC.h5\n",
            "1250/1250 [==============================] - 33s 26ms/step - loss: 0.2400 - val_loss: 0.2481\n",
            "Epoch 48/50\n",
            "1248/1250 [============================>.] - ETA: 0s - loss: 0.2326\n",
            "Epoch 00048: saving model to FNC.h5\n",
            "1250/1250 [==============================] - 33s 26ms/step - loss: 0.2328 - val_loss: 0.2356\n",
            "Epoch 49/50\n",
            "1249/1250 [============================>.] - ETA: 0s - loss: 0.2289\n",
            "Epoch 00049: saving model to FNC.h5\n",
            "1250/1250 [==============================] - 33s 26ms/step - loss: 0.2288 - val_loss: 0.2367\n",
            "Epoch 50/50\n",
            "1250/1250 [==============================] - ETA: 0s - loss: 0.2297\n",
            "Epoch 00050: saving model to FNC.h5\n",
            "1250/1250 [==============================] - 33s 26ms/step - loss: 0.2297 - val_loss: 0.2295\n"
          ],
          "name": "stdout"
        },
        {
          "output_type": "execute_result",
          "data": {
            "text/plain": [
              "<tensorflow.python.keras.callbacks.History at 0x7fe6824eeda0>"
            ]
          },
          "metadata": {
            "tags": []
          },
          "execution_count": 35
        }
      ]
    },
    {
      "cell_type": "code",
      "metadata": {
        "id": "lJCcm6qJstLT",
        "colab_type": "code",
        "colab": {}
      },
      "source": [
        "y_pred = model.predict([x_val, x_heading_val])"
      ],
      "execution_count": 0,
      "outputs": []
    },
    {
      "cell_type": "code",
      "metadata": {
        "id": "8UnLxiqos9w0",
        "colab_type": "code",
        "colab": {}
      },
      "source": [
        "y_pred = np.argmax(y_pred, axis=1)"
      ],
      "execution_count": 0,
      "outputs": []
    },
    {
      "cell_type": "code",
      "metadata": {
        "id": "gl3-5VZYuGZZ",
        "colab_type": "code",
        "colab": {}
      },
      "source": [
        "y_val = np.argmax(y_val, axis=1)"
      ],
      "execution_count": 0,
      "outputs": []
    },
    {
      "cell_type": "code",
      "metadata": {
        "id": "V9OsDEEFtKee",
        "colab_type": "code",
        "colab": {
          "base_uri": "https://localhost:8080/",
          "height": 85
        },
        "outputId": "59985da2-dfb7-4296-8201-6612494c733c"
      },
      "source": [
        "from sklearn.metrics import confusion_matrix\n",
        "confusion_matrix(y_val, y_pred)"
      ],
      "execution_count": 39,
      "outputs": [
        {
          "output_type": "execute_result",
          "data": {
            "text/plain": [
              "array([[ 497,    0,  170,   49],\n",
              "       [ 111,    0,   38,    7],\n",
              "       [ 162,    0, 1613,   34],\n",
              "       [ 158,    0,   76, 7080]])"
            ]
          },
          "metadata": {
            "tags": []
          },
          "execution_count": 39
        }
      ]
    },
    {
      "cell_type": "code",
      "metadata": {
        "id": "dc0UH5xPvYbw",
        "colab_type": "code",
        "colab": {
          "base_uri": "https://localhost:8080/",
          "height": 34
        },
        "outputId": "c84fec4d-0095-48ea-e5d6-47a15bf7303d"
      },
      "source": [
        "from sklearn.metrics import accuracy_score\n",
        "accuracy_score(y_val, y_pred)"
      ],
      "execution_count": 40,
      "outputs": [
        {
          "output_type": "execute_result",
          "data": {
            "text/plain": [
              "0.9194597298649325"
            ]
          },
          "metadata": {
            "tags": []
          },
          "execution_count": 40
        }
      ]
    }
  ]
}